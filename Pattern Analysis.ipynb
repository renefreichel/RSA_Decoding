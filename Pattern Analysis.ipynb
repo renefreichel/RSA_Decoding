{
 "cells": [
  {
   "cell_type": "markdown",
   "metadata": {},
   "source": [
    "# Pattern Analysis: RSA vs. Decoding"
   ]
  },
  {
   "cell_type": "markdown",
   "metadata": {},
   "source": [
    "The overarching goal of this study is to examine how RSA performance relates to the decoding classification in the context of face gender classification. Based on the theoretical background, we hypothesize that both the RSA and decoding methods are able to accurately distinguish between face gender. H1: The decoding classifier shows a significant above chance accuracy in the classification of face gender. H2: The RSA will show a high correlation between neural patterns and events. Based upon an accurate classification in decoding and a high correlation between brain and event patterns, we expect a high correlation between RSA performance and decoding accuracy. H3: RSA performance is strongly correlated to decoding accuracy. Importantly, we expect high performance of both the RSA and decoding. However, if both RSA and decoding yield chance - level or unsatisfying results, we would expect no correlation between RSA performance and decoding accuracy as both methods fail to classify face gender. The findings of this project will complement the literature with empirical insight that complement the existing conceptual differences between RSA and decoding. Given the importance of machine learning and artificial intelligence, our research could result in findings that could inform model selection (RSA/ decoding) for the proposed feature of classifying face gender.\n"
   ]
  },
  {
   "cell_type": "markdown",
   "metadata": {},
   "source": [
    "## Pattern estimation and pre-processing"
   ]
  },
  {
   "cell_type": "code",
   "execution_count": null,
   "metadata": {},
   "outputs": [],
   "source": [
    "import os\n",
    "import nibabel as nib\n",
    "import numpy as np\n",
    "import pandas as pd\n",
    "from glob import glob\n",
    "from niedu.global_utils import get_data_dir\n",
    "from niedu.utils.nipa import filter_pattern_drift\n",
    "from nilearn import image, datasets, plotting, masking\n",
    "from sklearn.preprocessing import LabelEncoder, StandardScaler, Robu from sklearn.pipeline import make_pipeline\n",
    "from sklearn.metrics import roc_auc_score, mean_squared_error, pairw from sklearn.linear_model import RidgeClassifier, LogisticRegression from sklearn.model_selection import LeavePGroupsOut\n",
    "from scipy.spatial.distance import squareform\n",
    "from scipy.stats import kendalltau, spearmanr\n",
    "import matplotlib.pyplot as plt\n",
    "\n",
    "\n",
    "# setting the path directory for loading in the data data_dir = get_data_dir()\n",
    "subs = sorted([os.path.basename(d) for d in glob(os.path.join(data_d sessions = ['ses-1', 'ses-2']\n",
    "runs = ['run-1', 'run-2', 'run-3', 'run-4', 'run-5', 'run-6'] pattern_dir = os.path.join(data_dir, 'derivatives', 'nibetaseries_l', events_dir = data_dir) # path for the .events files, where the event\n",
    "                                                                                         \n",
    "\n",
    "def get_R(pattern_directory, subject, MNI_T1, region_of_interest): \n",
    "\"\"\" Function that loads in the pattern data and returns the neural m Parameters are the pattern directory, the subject you want to ob and the region of interest as a string. \"\"\"\n",
    "pattern_files = []\n",
    "for i, session in enumerate(sessions):\n",
    "pattern_files.append(sorted(glob(os.path.join(pattern_direct\n",
    "R_4D = image.concat_imgs(pattern_files)\n",
    "ho_atlas = datasets.fetch_atlas_harvard_oxford('cort-maxprob-thr ho_map = ho_atlas['maps']\n",
    "r_rTOF_idx = ho_atlas['labels'].index(region_of_interest)\n",
    "ho_map_resamp = image.resample_to_img(ho_map, R_4D, interpolatio r_rTOF_roi_bool = ho_map_resamp.get_fdata() == r_rTOF_idx r_rTOF_roi = nib.Nifti1Image(r_rTOF_roi_bool.astype(int), affine\n",
    "return masking.apply_mask(R_4D, r_rTOF_roi)\n",
    "\n",
    "def get_S(events_directory, subject, separator, _filter): \"\"\"\n",
    "Function that loads in the event data and returns the feature ma Parameters are the directory where the event data is stored, the (.tsv = '/t', .csv = ',')\n",
    "\"\"\"\n",
    "events_file = []\n",
    "for i, session in enumerate(sessions):\n",
    "events_file = np.concatenate((events_file, sorted(glob(os.pa\n",
    "lab_enc = LabelEncoder()\n",
    "events = [pd.read_csv(file, sep=separator) for file in events_fi events_filt = [event.loc[event['trial_type'].str.contains('STIM' S_filt = [e[_filter].to_numpy() for e in events_filt]\n",
    "S_expr = [lab_enc.fit_transform(e) for e in S_filt]\n",
    "return np.concatenate(S_expr)\n",
    "                                                                                          \n",
    "                                                                                         "
   ]
  },
  {
   "cell_type": "markdown",
   "metadata": {},
   "source": [
    "## Representational Similarity Analysis (RSA)"
   ]
  },
  {
   "cell_type": "code",
   "execution_count": null,
   "metadata": {},
   "outputs": [],
   "source": [
    "def rsa(R, R_metric, S, S_metric, plot = False): \"\"\"\n",
    "Function that performs the Representational Similarity Analysis. Parameters are the R matrix, the R_metric is the distance of int (.tsv = '/t', .csv = ',')\n",
    "\"\"\"\n",
    "rdm_R = pairwise_distances(R, metric = R_metric)\n",
    "rdv_R = squareform(np.round(rdm_R, 5), force = 'tovector') # onl rdm_S = pairwise_distances(S[:, np.newaxis], metric = S_metric) rdv_S = squareform(rdm_S)\n",
    "RDV_all.append(rdv_R)\n",
    "if plot:\n",
    "fig, (rdmS, rdmR) = plt.subplots(1, 2) fig.suptitle('Feature and Neural RDM of Face Gender') rdmS.imshow(rdm_S)\n",
    "rdmR.imshow(rdm_R)\n",
    "rdmS.set_title(\"Feature RDM\")\n",
    "rdmR.set_title('Neural RDM')\n",
    "plt.show()\n",
    "return kendalltau(rdv_S, rdv_R)"
   ]
  },
  {
   "cell_type": "markdown",
   "metadata": {},
   "source": [
    "## Decoding Pipeline"
   ]
  },
  {
   "cell_type": "code",
   "execution_count": null,
   "metadata": {},
   "outputs": [],
   "source": [
    "def decoder(R, S, scaler, classifier, numberoffolds): \"\"\"\n",
    "            Function that performs decoding based on the classifier that is\n",
    "            Parameters are the R matrix, the S matrix, the scaler of interes\n",
    "\"\"\"\n",
    "pipe = make_pipeline(scaler, classifier)\n",
    "groups = np.concatenate([[i] * 40 for i in range(12)]) lpgo = LeavePGroupsOut(n_groups = numberoffolds)\n",
    "folds = lpgo.split(R,S,groups) acc, mse = [], []\n",
    "for train_idx, test_idx in folds:\n",
    "R_train, R_test = R[train_idx,:], R[test_idx,:] S_train, S_test = S[train_idx], S[test_idx] pipe.fit(R_train, S_train)\n",
    "preds = pipe.predict(R_test) acc.append(roc_auc_score(S_test, preds)) mse.append(mean_squared_error(S_test, preds))\n",
    "return np.mean(acc), np.mean(mse)\n",
    "\n",
    "\n",
    "# Pre-allocate the accuracy, mean squared error, correlation and p-v av_acc_all = np.zeros(len(subs))\n",
    "av_mse_all = np.zeros(len(subs)) corr_all = np.zeros(len(subs)) pval_all = np.zeros(len(subs)) RDV_all = []\n",
    "for i, sub in enumerate(subs):\n",
    "print('Start processing of {}...'.format(sub))\n",
    "R = get_R(pattern_dir, sub, 'MNI', 'Right Temporal Occipital Fus print('R of {} done...'.format(sub))\n",
    "S = get_S(events_dir, sub, '\\t', 'face_sex')\n",
    "print('S of {} done...'.format(sub))\n",
    "corr_all[i], pval_all[i] = rsa(R, 'euclidean', S, 'manhattan') print('RSA of {} done...'.format(sub))\n",
    "av_acc_all[i], av_mse_all[i] = decoder(R, S, StandardScaler(), print('Decoding of {} done...'.format(sub))\n",
    "print(\"Accuracy : {}\".format(av_acc_all)) print(\"Correlation : {}\".format(corr_all))"
   ]
  },
  {
   "cell_type": "markdown",
   "metadata": {},
   "source": [
    "## Model Visualization"
   ]
  },
  {
   "cell_type": "code",
   "execution_count": null,
   "metadata": {},
   "outputs": [],
   "source": [
    "print(\"The overall Spearman correlation is\", round(spearmanr(av_acc_"
   ]
  },
  {
   "cell_type": "code",
   "execution_count": null,
   "metadata": {},
   "outputs": [],
   "source": [
    "av_acc_all = np.zeros(len(subs)) av_mse_all = np.zeros(len(subs)) corr_all = np.zeros(len(subs)) pval_all = np.zeros(len(subs)) RDV_all = []\n",
    "for i, sub in enumerate(subs):\n",
    "print('Start processing of {}...'.format(sub))\n",
    "R = get_R(pattern_dir, sub, 'MNI', 'Right Temporal Occipital Fus print('R of {} done...'.format(sub))\n",
    "S = get_S(events_dir, sub, '\\t', 'face_sex')\n",
    "print('S of {} done...'.format(sub))\n",
    "corr_all[i], pval_all[i] = rsa(R, 'euclidean', S, 'manhattan', print('RSA of {} done...'.format(sub))\n",
    "av_acc_all[i], av_mse_all[i] = decoder(R, S, StandardScaler(), print('Decoding of {} done...'.format(sub))\n",
    "                                       \n",
    "                                       \n",
    "     "
   ]
  }
 ],
 "metadata": {
  "kernelspec": {
   "display_name": "Python 3",
   "language": "python",
   "name": "python3"
  },
  "language_info": {
   "codemirror_mode": {
    "name": "ipython",
    "version": 3
   },
   "file_extension": ".py",
   "mimetype": "text/x-python",
   "name": "python",
   "nbconvert_exporter": "python",
   "pygments_lexer": "ipython3",
   "version": "3.6.10"
  }
 },
 "nbformat": 4,
 "nbformat_minor": 4
}
